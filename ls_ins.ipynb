{
 "cells": [
  {
   "cell_type": "markdown",
   "metadata": {
    "slideshow": {
     "slide_type": "slide"
    }
   },
   "source": [
    "# AWS Automation "
   ]
  },
  {
   "cell_type": "code",
   "execution_count": 1,
   "metadata": {},
   "outputs": [],
   "source": [
    "# Lista las instancias administradas y sus costos\n",
    "# ls_ins.ipynb"
   ]
  },
  {
   "cell_type": "code",
   "execution_count": 3,
   "metadata": {},
   "outputs": [],
   "source": [
    "import boto3\n",
    "#import botostubs\n",
    "import pprint\n",
    "import os\n",
    "\n",
    "import altair as alt\n",
    "\n",
    "import pandas as pd\n",
    "import numpy as np\n",
    "\n",
    "import ipywidgets as widgets\n",
    "import datetime\n",
    "from datetime import timedelta "
   ]
  },
  {
   "cell_type": "code",
   "execution_count": 4,
   "metadata": {},
   "outputs": [
    {
     "name": "stdout",
     "output_type": "stream",
     "text": [
      "ec2.instancesCollection(ec2.ServiceResource(), ec2.Instance)\n",
      " \n",
      "['__class__', '__delattr__', '__dict__', '__dir__', '__doc__', '__eq__', '__format__', '__ge__', '__getattribute__', '__gt__', '__hash__', '__init__', '__init_subclass__', '__iter__', '__le__', '__lt__', '__module__', '__ne__', '__new__', '__reduce__', '__reduce_ex__', '__repr__', '__setattr__', '__sizeof__', '__str__', '__subclasshook__', '__weakref__', '_clone', '_handler', '_model', '_params', '_parent', '_py_operation_name', 'all', 'create_tags', 'filter', 'limit', 'monitor', 'page_size', 'pages', 'reboot', 'start', 'stop', 'terminate', 'unmonitor']\n",
      " \n",
      "ec2.instancesCollection(ec2.ServiceResource(), ec2.Instance)\n",
      "ec2.instancesCollection(ec2.ServiceResource(), ec2.Instance)\n"
     ]
    }
   ],
   "source": [
    "ec2 = boto3.resource('ec2') # type: botostubs.S3\n",
    "\n",
    "instances = ec2.instances.filter(\n",
    "    Filters=[{'Name': 'instance-state-name', 'Values': ['running']}])\n",
    "\n",
    "print(instances)\n",
    "print(' ')\n",
    "print(dir(instances))\n",
    "print(' ')\n",
    "print(instances.all())\n",
    "# exit(-1)\n",
    "\n",
    "pprint.pprint(instances)"
   ]
  },
  {
   "cell_type": "code",
   "execution_count": 7,
   "metadata": {
    "slideshow": {
     "slide_type": "slide"
    }
   },
   "outputs": [
    {
     "name": "stdout",
     "output_type": "stream",
     "text": [
      "Resumen de Instancias\n",
      "i-0d7dda8c364492754 t3a.2xlarge\n",
      "i-08529a72d1ae3c78b t3a.2xlarge\n",
      "i-0982e0fad1e761a54 t3a.micro\n",
      "i-0fb8411f5f18c3807 t3a.large\n",
      "i-03b65151326be6a7d t3a.large\n"
     ]
    }
   ],
   "source": [
    "print('Resumen de Instancias')\n",
    "i = 0\n",
    "for instance in instances:\n",
    "    print(instance.id, instance.instance_type)\n",
    "    #pprint.pprint(instance)\n",
    "    if i > 3 :break\n",
    "    i = i + 1"
   ]
  },
  {
   "cell_type": "code",
   "execution_count": 6,
   "metadata": {
    "slideshow": {
     "slide_type": "subslide"
    }
   },
   "outputs": [
    {
     "name": "stdout",
     "output_type": "stream",
     "text": [
      "Muesta de 3 Instancias\n",
      "Id: i-0d7dda8c364492754\n",
      "Platform: None\n",
      "Type: t3a.2xlarge\n",
      "Public IPv4: None\n",
      "AMI: ami-02eac2c0129f6376b\n",
      "State: {'Code': 16, 'Name': 'running'}\n",
      "\n",
      "Id: i-08529a72d1ae3c78b\n",
      "Platform: None\n",
      "Type: t3a.2xlarge\n",
      "Public IPv4: None\n",
      "AMI: ami-02eac2c0129f6376b\n",
      "State: {'Code': 16, 'Name': 'running'}\n",
      "\n",
      "Id: i-0982e0fad1e761a54\n",
      "Platform: None\n",
      "Type: t3a.micro\n",
      "Public IPv4: 52.44.250.185\n",
      "AMI: ami-02eac2c0129f6376b\n",
      "State: {'Code': 16, 'Name': 'running'}\n",
      "\n"
     ]
    }
   ],
   "source": [
    "print('Muesta de 3 Instancias')\n",
    "i = 1\n",
    "for instance in ec2.instances.all():\n",
    "     print(\n",
    "         \"Id: {0}\\nPlatform: {1}\\nType: {2}\\nPublic IPv4: {3}\\nAMI: {4}\\nState: {5}\\n\".format(\n",
    "         instance.id, instance.platform, instance.instance_type, instance.public_ip_address, instance.image.id, instance.state\n",
    "         )\n",
    "     )\n",
    "     if i > 2:\n",
    "        break\n",
    "     i = i + 1"
   ]
  },
  {
   "cell_type": "markdown",
   "metadata": {},
   "source": [
    "---"
   ]
  },
  {
   "cell_type": "markdown",
   "metadata": {
    "slideshow": {
     "slide_type": "slide"
    }
   },
   "source": [
    "# Costos"
   ]
  },
  {
   "cell_type": "code",
   "execution_count": 7,
   "metadata": {},
   "outputs": [],
   "source": [
    "client = boto3.client('ce')"
   ]
  },
  {
   "cell_type": "markdown",
   "metadata": {},
   "source": [
    "### Periodo a considerar "
   ]
  },
  {
   "cell_type": "code",
   "execution_count": 8,
   "metadata": {
    "jupyter": {
     "source_hidden": true
    }
   },
   "outputs": [
    {
     "data": {
      "application/vnd.jupyter.widget-view+json": {
       "model_id": "5978084998534d3f96d55025893c8f50",
       "version_major": 2,
       "version_minor": 0
      },
      "text/plain": [
       "HBox(children=(DatePicker(value=datetime.datetime(2020, 4, 14, 14, 44, 8, 408382), description='Desde:'), Date…"
      ]
     },
     "metadata": {},
     "output_type": "display_data"
    }
   ],
   "source": [
    "hoy = datetime.datetime.today()\n",
    "ayer = hoy + timedelta(days=-1)  \n",
    "\n",
    "start_day_w = widgets.DatePicker(\n",
    "    description='Desde:',\n",
    "    disabled=False, \n",
    "    value= ayer     # datetime.date(2019, 7, 9),\n",
    ")\n",
    "\n",
    "end_day_w = widgets.DatePicker(\n",
    "    description='Hasta:',\n",
    "    disabled=False,\n",
    "    value= hoy\n",
    ")\n",
    "\n",
    "widgets.HBox([start_day_w, end_day_w])"
   ]
  },
  {
   "cell_type": "code",
   "execution_count": 9,
   "metadata": {},
   "outputs": [],
   "source": [
    "start_day  = start_day_w.value.strftime(\"%Y-%m-%d\")\n",
    "end_day    = end_day_w.value.strftime(\"%Y-%m-%d\") #'2020-04-02'\n",
    "account_no = '698412479679' "
   ]
  },
  {
   "cell_type": "code",
   "execution_count": 10,
   "metadata": {},
   "outputs": [
    {
     "name": "stdout",
     "output_type": "stream",
     "text": [
      "Generando reporte: desde 2020-04-14 - hasta: 2020-04-15\n"
     ]
    }
   ],
   "source": [
    "print('Generando reporte: desde',start_day, '- hasta:',end_day)"
   ]
  },
  {
   "cell_type": "code",
   "execution_count": 11,
   "metadata": {
    "code_folding": [],
    "slideshow": {
     "slide_type": "slide"
    }
   },
   "outputs": [],
   "source": [
    "result = client.get_cost_and_usage(\n",
    "    TimePeriod = {\n",
    "        'Start': start_day,\n",
    "        'End': end_day\n",
    "    },\n",
    "    Granularity = 'DAILY',\n",
    "    Filter = {\n",
    "        \"And\": [{\n",
    "            \"Dimensions\": {\n",
    "                \"Key\": \"LINKED_ACCOUNT\",\n",
    "                \"Values\": [account_no]\n",
    "            }\n",
    "        }, {\n",
    "            \"Not\": {\n",
    "                \"Dimensions\": {\n",
    "                    \"Key\": \"RECORD_TYPE\",\n",
    "                    \"Values\": [\"Credit\", \"Refund\"]\n",
    "                }\n",
    "            }\n",
    "        }, {\n",
    "            \"Tags\": {\n",
    "                \"Key\": \"environment\",\n",
    "                \"Values\": ['prod']\n",
    "            }\n",
    "        }]\n",
    "    },\n",
    "    Metrics = [\"BlendedCost\"],\n",
    "    GroupBy = [\n",
    "        {\n",
    "            'Type': 'DIMENSION',\n",
    "            'Key': 'SERVICE'\n",
    "        },\n",
    "        {\n",
    "            'Type': 'DIMENSION',\n",
    "            'Key': 'USAGE_TYPE'\n",
    "        }\n",
    "    ]\n",
    ")"
   ]
  },
  {
   "cell_type": "code",
   "execution_count": 12,
   "metadata": {},
   "outputs": [],
   "source": [
    "#result"
   ]
  },
  {
   "cell_type": "code",
   "execution_count": 13,
   "metadata": {},
   "outputs": [
    {
     "data": {
      "text/plain": [
       "dict_keys(['GroupDefinitions', 'ResultsByTime', 'ResponseMetadata'])"
      ]
     },
     "execution_count": 13,
     "metadata": {},
     "output_type": "execute_result"
    }
   ],
   "source": [
    "result.keys()"
   ]
  },
  {
   "cell_type": "code",
   "execution_count": 14,
   "metadata": {},
   "outputs": [],
   "source": [
    "# Convierte a DataFrame"
   ]
  },
  {
   "cell_type": "code",
   "execution_count": 15,
   "metadata": {},
   "outputs": [],
   "source": [
    "df = pd.DataFrame.from_dict(result['ResultsByTime'][0]['Groups'])\n",
    "\n",
    "def get_amount(c):\n",
    "    return c['BlendedCost']['Amount']\n",
    "df['Amount'] = df['Metrics'].apply(get_amount)\n",
    "\n",
    "def get_restype(c):\n",
    "    return c[0]\n",
    "df['TipoRecurso'] = df['Keys'].apply(get_restype)\n",
    "\n",
    "df.sort_values(by='Amount', ascending=False, inplace=True);"
   ]
  },
  {
   "cell_type": "code",
   "execution_count": 22,
   "metadata": {
    "slideshow": {
     "slide_type": "slide"
    }
   },
   "outputs": [
    {
     "data": {
      "text/html": [
       "<div>\n",
       "<style scoped>\n",
       "    .dataframe tbody tr th:only-of-type {\n",
       "        vertical-align: middle;\n",
       "    }\n",
       "\n",
       "    .dataframe tbody tr th {\n",
       "        vertical-align: top;\n",
       "    }\n",
       "\n",
       "    .dataframe thead th {\n",
       "        text-align: right;\n",
       "    }\n",
       "</style>\n",
       "<table border=\"1\" class=\"dataframe\">\n",
       "  <thead>\n",
       "    <tr style=\"text-align: right;\">\n",
       "      <th></th>\n",
       "      <th>Keys</th>\n",
       "      <th>Metrics</th>\n",
       "      <th>Amount</th>\n",
       "      <th>TipoRecurso</th>\n",
       "    </tr>\n",
       "  </thead>\n",
       "  <tbody>\n",
       "    <tr>\n",
       "      <th>19</th>\n",
       "      <td>[Amazon Elastic Compute Cloud - Compute, BoxUs...</td>\n",
       "      <td>{'BlendedCost': {'Amount': '7.2192', 'Unit': '...</td>\n",
       "      <td>7.2192</td>\n",
       "      <td>Amazon Elastic Compute Cloud - Compute</td>\n",
       "    </tr>\n",
       "    <tr>\n",
       "      <th>18</th>\n",
       "      <td>[Amazon Elastic Compute Cloud - Compute, BoxUs...</td>\n",
       "      <td>{'BlendedCost': {'Amount': '28.8768', 'Unit': ...</td>\n",
       "      <td>28.8768</td>\n",
       "      <td>Amazon Elastic Compute Cloud - Compute</td>\n",
       "    </tr>\n",
       "    <tr>\n",
       "      <th>4</th>\n",
       "      <td>[EC2 - Other, NatGateway-Hours]</td>\n",
       "      <td>{'BlendedCost': {'Amount': '2.16', 'Unit': 'US...</td>\n",
       "      <td>2.16</td>\n",
       "      <td>EC2 - Other</td>\n",
       "    </tr>\n",
       "  </tbody>\n",
       "</table>\n",
       "</div>"
      ],
      "text/plain": [
       "                                                 Keys  \\\n",
       "19  [Amazon Elastic Compute Cloud - Compute, BoxUs...   \n",
       "18  [Amazon Elastic Compute Cloud - Compute, BoxUs...   \n",
       "4                     [EC2 - Other, NatGateway-Hours]   \n",
       "\n",
       "                                              Metrics   Amount  \\\n",
       "19  {'BlendedCost': {'Amount': '7.2192', 'Unit': '...   7.2192   \n",
       "18  {'BlendedCost': {'Amount': '28.8768', 'Unit': ...  28.8768   \n",
       "4   {'BlendedCost': {'Amount': '2.16', 'Unit': 'US...     2.16   \n",
       "\n",
       "                               TipoRecurso  \n",
       "19  Amazon Elastic Compute Cloud - Compute  \n",
       "18  Amazon Elastic Compute Cloud - Compute  \n",
       "4                              EC2 - Other  "
      ]
     },
     "execution_count": 22,
     "metadata": {},
     "output_type": "execute_result"
    }
   ],
   "source": [
    "df.head(3)"
   ]
  },
  {
   "cell_type": "code",
   "execution_count": 27,
   "metadata": {
    "slideshow": {
     "slide_type": "slide"
    }
   },
   "outputs": [
    {
     "data": {
      "application/vnd.vegalite.v3+json": {
       "$schema": "https://vega.github.io/schema/vega-lite/v3.4.0.json",
       "config": {
        "mark": {
         "tooltip": null
        },
        "view": {
         "height": 300,
         "width": 400
        }
       },
       "data": {
        "name": "data-db2e61feaa437d6a0e3fbd20c7ce80d2"
       },
       "datasets": {
        "data-db2e61feaa437d6a0e3fbd20c7ce80d2": [
         {
          "Amount": "7.2192",
          "Keys": [
           "Amazon Elastic Compute Cloud - Compute",
           "BoxUsage:t3a.large"
          ],
          "Metrics": {
           "BlendedCost": {
            "Amount": "7.2192",
            "Unit": "USD"
           }
          },
          "TipoRecurso": "Amazon Elastic Compute Cloud - Compute"
         },
         {
          "Amount": "28.8768",
          "Keys": [
           "Amazon Elastic Compute Cloud - Compute",
           "BoxUsage:t3a.2xlarge"
          ],
          "Metrics": {
           "BlendedCost": {
            "Amount": "28.8768",
            "Unit": "USD"
           }
          },
          "TipoRecurso": "Amazon Elastic Compute Cloud - Compute"
         },
         {
          "Amount": "2.16",
          "Keys": [
           "EC2 - Other",
           "NatGateway-Hours"
          ],
          "Metrics": {
           "BlendedCost": {
            "Amount": "2.16",
            "Unit": "USD"
           }
          },
          "TipoRecurso": "EC2 - Other"
         },
         {
          "Amount": "2.1333333312",
          "Keys": [
           "EC2 - Other",
           "EBS:VolumeUsage.gp2"
          ],
          "Metrics": {
           "BlendedCost": {
            "Amount": "2.1333333312",
            "Unit": "USD"
           }
          },
          "TipoRecurso": "EC2 - Other"
         },
         {
          "Amount": "1.62",
          "Keys": [
           "Amazon Elastic Load Balancing",
           "LoadBalancerUsage"
          ],
          "Metrics": {
           "BlendedCost": {
            "Amount": "1.62",
            "Unit": "USD"
           }
          },
          "TipoRecurso": "Amazon Elastic Load Balancing"
         },
         {
          "Amount": "0.4512",
          "Keys": [
           "Amazon Elastic Compute Cloud - Compute",
           "BoxUsage:t3a.micro"
          ],
          "Metrics": {
           "BlendedCost": {
            "Amount": "0.4512",
            "Unit": "USD"
           }
          },
          "TipoRecurso": "Amazon Elastic Compute Cloud - Compute"
         },
         {
          "Amount": "0.1103566837",
          "Keys": [
           "EC2 - Other",
           "EBS:SnapshotUsage"
          ],
          "Metrics": {
           "BlendedCost": {
            "Amount": "0.1103566837",
            "Unit": "USD"
           }
          },
          "TipoRecurso": "EC2 - Other"
         },
         {
          "Amount": "0.0523542879",
          "Keys": [
           "EC2 - Other",
           "DataTransfer-Regional-Bytes"
          ],
          "Metrics": {
           "BlendedCost": {
            "Amount": "0.0523542879",
            "Unit": "USD"
           }
          },
          "TipoRecurso": "EC2 - Other"
         },
         {
          "Amount": "0.0397580465",
          "Keys": [
           "Amazon Elastic Load Balancing",
           "LCUUsage"
          ],
          "Metrics": {
           "BlendedCost": {
            "Amount": "0.0397580465",
            "Unit": "USD"
           }
          },
          "TipoRecurso": "Amazon Elastic Load Balancing"
         },
         {
          "Amount": "0.0072203526",
          "Keys": [
           "Amazon Elastic Load Balancing",
           "DataTransfer-Out-Bytes"
          ],
          "Metrics": {
           "BlendedCost": {
            "Amount": "0.0072203526",
            "Unit": "USD"
           }
          },
          "TipoRecurso": "Amazon Elastic Load Balancing"
         },
         {
          "Amount": "0.0045652033",
          "Keys": [
           "Amazon Elastic Compute Cloud - Compute",
           "DataTransfer-Out-Bytes"
          ],
          "Metrics": {
           "BlendedCost": {
            "Amount": "0.0045652033",
            "Unit": "USD"
           }
          },
          "TipoRecurso": "Amazon Elastic Compute Cloud - Compute"
         },
         {
          "Amount": "0.0033424745",
          "Keys": [
           "EC2 - Other",
           "NatGateway-Bytes"
          ],
          "Metrics": {
           "BlendedCost": {
            "Amount": "0.0033424745",
            "Unit": "USD"
           }
          },
          "TipoRecurso": "EC2 - Other"
         },
         {
          "Amount": "0.0000066742",
          "Keys": [
           "Amazon Elastic Load Balancing",
           "USE1-USW2-AWS-Out-Bytes"
          ],
          "Metrics": {
           "BlendedCost": {
            "Amount": "0.0000066742",
            "Unit": "USD"
           }
          },
          "TipoRecurso": "Amazon Elastic Load Balancing"
         },
         {
          "Amount": "0.0000006912",
          "Keys": [
           "Amazon Elastic Load Balancing",
           "USE1-APS1-AWS-Out-Bytes"
          ],
          "Metrics": {
           "BlendedCost": {
            "Amount": "0.0000006912",
            "Unit": "USD"
           }
          },
          "TipoRecurso": "Amazon Elastic Load Balancing"
         },
         {
          "Amount": "0.0000002687",
          "Keys": [
           "Amazon Elastic Load Balancing",
           "DataTransfer-Regional-Bytes"
          ],
          "Metrics": {
           "BlendedCost": {
            "Amount": "0.0000002687",
            "Unit": "USD"
           }
          },
          "TipoRecurso": "Amazon Elastic Load Balancing"
         },
         {
          "Amount": "0.0000000864",
          "Keys": [
           "EC2 - Other",
           "USE1-APS3-AWS-Out-Bytes"
          ],
          "Metrics": {
           "BlendedCost": {
            "Amount": "0.0000000864",
            "Unit": "USD"
           }
          },
          "TipoRecurso": "EC2 - Other"
         },
         {
          "Amount": "0.0000000432",
          "Keys": [
           "EC2 - Other",
           "USE1-USW2-AWS-Out-Bytes"
          ],
          "Metrics": {
           "BlendedCost": {
            "Amount": "0.0000000432",
            "Unit": "USD"
           }
          },
          "TipoRecurso": "EC2 - Other"
         },
         {
          "Amount": "0.0000000098",
          "Keys": [
           "Amazon Elastic Load Balancing",
           "USE1-APS2-AWS-Out-Bytes"
          ],
          "Metrics": {
           "BlendedCost": {
            "Amount": "0.0000000098",
            "Unit": "USD"
           }
          },
          "TipoRecurso": "Amazon Elastic Load Balancing"
         },
         {
          "Amount": "0.0000000049",
          "Keys": [
           "EC2 - Other",
           "USE1-APN1-AWS-Out-Bytes"
          ],
          "Metrics": {
           "BlendedCost": {
            "Amount": "0.0000000049",
            "Unit": "USD"
           }
          },
          "TipoRecurso": "EC2 - Other"
         },
         {
          "Amount": "0",
          "Keys": [
           "Amazon Elastic Load Balancing",
           "USE1-USW1-AWS-In-Bytes"
          ],
          "Metrics": {
           "BlendedCost": {
            "Amount": "0",
            "Unit": "USD"
           }
          },
          "TipoRecurso": "Amazon Elastic Load Balancing"
         },
         {
          "Amount": "0",
          "Keys": [
           "Amazon Elastic Load Balancing",
           "USE1-USE2-AWS-In-Bytes"
          ],
          "Metrics": {
           "BlendedCost": {
            "Amount": "0",
            "Unit": "USD"
           }
          },
          "TipoRecurso": "Amazon Elastic Load Balancing"
         },
         {
          "Amount": "0",
          "Keys": [
           "Amazon Elastic Load Balancing",
           "USE1-SAE1-AWS-In-Bytes"
          ],
          "Metrics": {
           "BlendedCost": {
            "Amount": "0",
            "Unit": "USD"
           }
          },
          "TipoRecurso": "Amazon Elastic Load Balancing"
         },
         {
          "Amount": "0",
          "Keys": [
           "Amazon Elastic Load Balancing",
           "USE1-EUW3-AWS-In-Bytes"
          ],
          "Metrics": {
           "BlendedCost": {
            "Amount": "0",
            "Unit": "USD"
           }
          },
          "TipoRecurso": "Amazon Elastic Load Balancing"
         },
         {
          "Amount": "0",
          "Keys": [
           "Amazon Elastic Load Balancing",
           "USE1-APS1-AWS-In-Bytes"
          ],
          "Metrics": {
           "BlendedCost": {
            "Amount": "0",
            "Unit": "USD"
           }
          },
          "TipoRecurso": "Amazon Elastic Load Balancing"
         },
         {
          "Amount": "0",
          "Keys": [
           "Amazon Elastic Load Balancing",
           "USE1-EUC1-AWS-In-Bytes"
          ],
          "Metrics": {
           "BlendedCost": {
            "Amount": "0",
            "Unit": "USD"
           }
          },
          "TipoRecurso": "Amazon Elastic Load Balancing"
         },
         {
          "Amount": "0",
          "Keys": [
           "Amazon Elastic Load Balancing",
           "USE1-EU-AWS-In-Bytes"
          ],
          "Metrics": {
           "BlendedCost": {
            "Amount": "0",
            "Unit": "USD"
           }
          },
          "TipoRecurso": "Amazon Elastic Load Balancing"
         },
         {
          "Amount": "0",
          "Keys": [
           "Amazon Elastic Load Balancing",
           "USE1-USW2-AWS-In-Bytes"
          ],
          "Metrics": {
           "BlendedCost": {
            "Amount": "0",
            "Unit": "USD"
           }
          },
          "TipoRecurso": "Amazon Elastic Load Balancing"
         },
         {
          "Amount": "0",
          "Keys": [
           "Amazon Elastic Load Balancing",
           "USE1-APS3-AWS-In-Bytes"
          ],
          "Metrics": {
           "BlendedCost": {
            "Amount": "0",
            "Unit": "USD"
           }
          },
          "TipoRecurso": "Amazon Elastic Load Balancing"
         },
         {
          "Amount": "0",
          "Keys": [
           "Amazon Elastic Load Balancing",
           "USE1-APS2-AWS-In-Bytes"
          ],
          "Metrics": {
           "BlendedCost": {
            "Amount": "0",
            "Unit": "USD"
           }
          },
          "TipoRecurso": "Amazon Elastic Load Balancing"
         },
         {
          "Amount": "0",
          "Keys": [
           "Amazon Elastic Load Balancing",
           "USE1-EUN1-AWS-In-Bytes"
          ],
          "Metrics": {
           "BlendedCost": {
            "Amount": "0",
            "Unit": "USD"
           }
          },
          "TipoRecurso": "Amazon Elastic Load Balancing"
         },
         {
          "Amount": "0",
          "Keys": [
           "EC2 - Other",
           "USE1-EUN1-AWS-In-Bytes"
          ],
          "Metrics": {
           "BlendedCost": {
            "Amount": "0",
            "Unit": "USD"
           }
          },
          "TipoRecurso": "EC2 - Other"
         },
         {
          "Amount": "0",
          "Keys": [
           "Amazon Elastic Load Balancing",
           "USE1-APN2-AWS-In-Bytes"
          ],
          "Metrics": {
           "BlendedCost": {
            "Amount": "0",
            "Unit": "USD"
           }
          },
          "TipoRecurso": "Amazon Elastic Load Balancing"
         },
         {
          "Amount": "0",
          "Keys": [
           "EC2 - Other",
           "USE1-EUW3-AWS-In-Bytes"
          ],
          "Metrics": {
           "BlendedCost": {
            "Amount": "0",
            "Unit": "USD"
           }
          },
          "TipoRecurso": "EC2 - Other"
         },
         {
          "Amount": "0",
          "Keys": [
           "EC2 - Other",
           "USE1-EU-AWS-In-Bytes"
          ],
          "Metrics": {
           "BlendedCost": {
            "Amount": "0",
            "Unit": "USD"
           }
          },
          "TipoRecurso": "EC2 - Other"
         },
         {
          "Amount": "0",
          "Keys": [
           "EC2 - Other",
           "USE1-APN1-AWS-In-Bytes"
          ],
          "Metrics": {
           "BlendedCost": {
            "Amount": "0",
            "Unit": "USD"
           }
          },
          "TipoRecurso": "EC2 - Other"
         },
         {
          "Amount": "0",
          "Keys": [
           "Amazon Elastic Load Balancing",
           "DataTransfer-In-Bytes"
          ],
          "Metrics": {
           "BlendedCost": {
            "Amount": "0",
            "Unit": "USD"
           }
          },
          "TipoRecurso": "Amazon Elastic Load Balancing"
         },
         {
          "Amount": "0",
          "Keys": [
           "EC2 - Other",
           "USE1-APN2-AWS-In-Bytes"
          ],
          "Metrics": {
           "BlendedCost": {
            "Amount": "0",
            "Unit": "USD"
           }
          },
          "TipoRecurso": "EC2 - Other"
         },
         {
          "Amount": "0",
          "Keys": [
           "Amazon Elastic Compute Cloud - Compute",
           "DataTransfer-In-Bytes"
          ],
          "Metrics": {
           "BlendedCost": {
            "Amount": "0",
            "Unit": "USD"
           }
          },
          "TipoRecurso": "Amazon Elastic Compute Cloud - Compute"
         },
         {
          "Amount": "0",
          "Keys": [
           "EC2 - Other",
           "USE1-APS1-AWS-In-Bytes"
          ],
          "Metrics": {
           "BlendedCost": {
            "Amount": "0",
            "Unit": "USD"
           }
          },
          "TipoRecurso": "EC2 - Other"
         },
         {
          "Amount": "0",
          "Keys": [
           "EC2 - Other",
           "USE1-APS2-AWS-In-Bytes"
          ],
          "Metrics": {
           "BlendedCost": {
            "Amount": "0",
            "Unit": "USD"
           }
          },
          "TipoRecurso": "EC2 - Other"
         },
         {
          "Amount": "0",
          "Keys": [
           "EC2 - Other",
           "USE1-APS3-AWS-In-Bytes"
          ],
          "Metrics": {
           "BlendedCost": {
            "Amount": "0",
            "Unit": "USD"
           }
          },
          "TipoRecurso": "EC2 - Other"
         },
         {
          "Amount": "0",
          "Keys": [
           "EC2 - Other",
           "USE1-USW2-AWS-In-Bytes"
          ],
          "Metrics": {
           "BlendedCost": {
            "Amount": "0",
            "Unit": "USD"
           }
          },
          "TipoRecurso": "EC2 - Other"
         },
         {
          "Amount": "0",
          "Keys": [
           "EC2 - Other",
           "USE1-USE2-AWS-In-Bytes"
          ],
          "Metrics": {
           "BlendedCost": {
            "Amount": "0",
            "Unit": "USD"
           }
          },
          "TipoRecurso": "EC2 - Other"
         },
         {
          "Amount": "0",
          "Keys": [
           "Amazon Elastic Load Balancing",
           "USE1-APN1-AWS-In-Bytes"
          ],
          "Metrics": {
           "BlendedCost": {
            "Amount": "0",
            "Unit": "USD"
           }
          },
          "TipoRecurso": "Amazon Elastic Load Balancing"
         }
        ]
       },
       "encoding": {
        "color": {
         "field": "TipoRecurso",
         "type": "nominal"
        },
        "x": {
         "field": "Amount",
         "type": "quantitative"
        },
        "y": {
         "field": "Keys",
         "type": "ordinal"
        }
       },
       "mark": "bar",
       "title": "Costos AWS 2020-04-14 al 2020-04-15"
      },
      "image/png": "[encoded data removed]",
      "text/plain": [
       "<VegaLite 3 object>\n",
       "\n",
       "If you see this message, it means the renderer has not been properly enabled\n",
       "for the frontend that you are using. For more information, see\n",
       "https://altair-viz.github.io/user_guide/troubleshooting.html\n"
      ]
     },
     "execution_count": 27,
     "metadata": {},
     "output_type": "execute_result"
    }
   ],
   "source": [
    "alt.Chart(df).mark_bar().encode(\n",
    "    y='Keys:O',\n",
    "    x='Amount:Q',\n",
    "#    x=alt.X('Amount', scale=alt.Scale(type='log', base=10), axis=alt.Axis(orient='right')),\n",
    "    color='TipoRecurso'\n",
    ").properties(\n",
    "    title='Costos AWS ' + start_day + ' al ' + end_day\n",
    ")"
   ]
  },
  {
   "cell_type": "code",
   "execution_count": 23,
   "metadata": {},
   "outputs": [
    {
     "data": {
      "application/vnd.plotly.v1+json": {
       "config": {
        "plotlyServerURL": "https://plot.ly"
       },
       "data": [
        {
         "hovertemplate": "Keys=%{x}<br>Amount=%{y}<extra></extra>",
         "legendgroup": "",
         "marker": {
          "color": "#636efa",
          "symbol": "circle"
         },
         "mode": "markers",
         "name": "",
         "showlegend": false,
         "type": "scatter",
         "x": [
          [
           "Amazon Elastic Compute Cloud - Compute",
           "BoxUsage:t3a.large"
          ],
          [
           "Amazon Elastic Compute Cloud - Compute",
           "BoxUsage:t3a.2xlarge"
          ],
          [
           "EC2 - Other",
           "NatGateway-Hours"
          ],
          [
           "EC2 - Other",
           "EBS:VolumeUsage.gp2"
          ],
          [
           "Amazon Elastic Load Balancing",
           "LoadBalancerUsage"
          ],
          [
           "Amazon Elastic Compute Cloud - Compute",
           "BoxUsage:t3a.micro"
          ],
          [
           "EC2 - Other",
           "EBS:SnapshotUsage"
          ],
          [
           "EC2 - Other",
           "DataTransfer-Regional-Bytes"
          ],
          [
           "Amazon Elastic Load Balancing",
           "LCUUsage"
          ],
          [
           "Amazon Elastic Load Balancing",
           "DataTransfer-Out-Bytes"
          ],
          [
           "Amazon Elastic Compute Cloud - Compute",
           "DataTransfer-Out-Bytes"
          ],
          [
           "EC2 - Other",
           "NatGateway-Bytes"
          ],
          [
           "Amazon Elastic Load Balancing",
           "USE1-USW2-AWS-Out-Bytes"
          ],
          [
           "Amazon Elastic Load Balancing",
           "USE1-APS1-AWS-Out-Bytes"
          ],
          [
           "Amazon Elastic Load Balancing",
           "DataTransfer-Regional-Bytes"
          ],
          [
           "EC2 - Other",
           "USE1-APS3-AWS-Out-Bytes"
          ],
          [
           "EC2 - Other",
           "USE1-USW2-AWS-Out-Bytes"
          ],
          [
           "Amazon Elastic Load Balancing",
           "USE1-APS2-AWS-Out-Bytes"
          ],
          [
           "EC2 - Other",
           "USE1-APN1-AWS-Out-Bytes"
          ],
          [
           "Amazon Elastic Load Balancing",
           "USE1-USW1-AWS-In-Bytes"
          ],
          [
           "Amazon Elastic Load Balancing",
           "USE1-USE2-AWS-In-Bytes"
          ],
          [
           "Amazon Elastic Load Balancing",
           "USE1-SAE1-AWS-In-Bytes"
          ],
          [
           "Amazon Elastic Load Balancing",
           "USE1-EUW3-AWS-In-Bytes"
          ],
          [
           "Amazon Elastic Load Balancing",
           "USE1-APS1-AWS-In-Bytes"
          ],
          [
           "Amazon Elastic Load Balancing",
           "USE1-EUC1-AWS-In-Bytes"
          ],
          [
           "Amazon Elastic Load Balancing",
           "USE1-EU-AWS-In-Bytes"
          ],
          [
           "Amazon Elastic Load Balancing",
           "USE1-USW2-AWS-In-Bytes"
          ],
          [
           "Amazon Elastic Load Balancing",
           "USE1-APS3-AWS-In-Bytes"
          ],
          [
           "Amazon Elastic Load Balancing",
           "USE1-APS2-AWS-In-Bytes"
          ],
          [
           "Amazon Elastic Load Balancing",
           "USE1-EUN1-AWS-In-Bytes"
          ],
          [
           "EC2 - Other",
           "USE1-EUN1-AWS-In-Bytes"
          ],
          [
           "Amazon Elastic Load Balancing",
           "USE1-APN2-AWS-In-Bytes"
          ],
          [
           "EC2 - Other",
           "USE1-EUW3-AWS-In-Bytes"
          ],
          [
           "EC2 - Other",
           "USE1-EU-AWS-In-Bytes"
          ],
          [
           "EC2 - Other",
           "USE1-APN1-AWS-In-Bytes"
          ],
          [
           "Amazon Elastic Load Balancing",
           "DataTransfer-In-Bytes"
          ],
          [
           "EC2 - Other",
           "USE1-APN2-AWS-In-Bytes"
          ],
          [
           "Amazon Elastic Compute Cloud - Compute",
           "DataTransfer-In-Bytes"
          ],
          [
           "EC2 - Other",
           "USE1-APS1-AWS-In-Bytes"
          ],
          [
           "EC2 - Other",
           "USE1-APS2-AWS-In-Bytes"
          ],
          [
           "EC2 - Other",
           "USE1-APS3-AWS-In-Bytes"
          ],
          [
           "EC2 - Other",
           "USE1-USW2-AWS-In-Bytes"
          ],
          [
           "EC2 - Other",
           "USE1-USE2-AWS-In-Bytes"
          ],
          [
           "Amazon Elastic Load Balancing",
           "USE1-APN1-AWS-In-Bytes"
          ]
         ],
         "xaxis": "x",
         "y": [
          "7.2192",
          "28.8768",
          "2.16",
          "2.1333333312",
          "1.62",
          "0.4512",
          "0.1103566837",
          "0.0523542879",
          "0.0397580465",
          "0.0072203526",
          "0.0045652033",
          "0.0033424745",
          "0.0000066742",
          "0.0000006912",
          "0.0000002687",
          "0.0000000864",
          "0.0000000432",
          "0.0000000098",
          "0.0000000049",
          "0",
          "0",
          "0",
          "0",
          "0",
          "0",
          "0",
          "0",
          "0",
          "0",
          "0",
          "0",
          "0",
          "0",
          "0",
          "0",
          "0",
          "0",
          "0",
          "0",
          "0",
          "0",
          "0",
          "0",
          "0"
         ],
         "yaxis": "y"
        }
       ],
       "layout": {
        "legend": {
         "tracegroupgap": 0
        },
        "margin": {
         "t": 60
        },
        "template": {
         "data": {
          "bar": [
           {
            "error_x": {
             "color": "#2a3f5f"
            },
            "error_y": {
             "color": "#2a3f5f"
            },
            "marker": {
             "line": {
              "color": "#E5ECF6",
              "width": 0.5
             }
            },
            "type": "bar"
           }
          ],
          "barpolar": [
           {
            "marker": {
             "line": {
              "color": "#E5ECF6",
              "width": 0.5
             }
            },
            "type": "barpolar"
           }
          ],
          "carpet": [
           {
            "aaxis": {
             "endlinecolor": "#2a3f5f",
             "gridcolor": "white",
             "linecolor": "white",
             "minorgridcolor": "white",
             "startlinecolor": "#2a3f5f"
            },
            "baxis": {
             "endlinecolor": "#2a3f5f",
             "gridcolor": "white",
             "linecolor": "white",
             "minorgridcolor": "white",
             "startlinecolor": "#2a3f5f"
            },
            "type": "carpet"
           }
          ],
          "choropleth": [
           {
            "colorbar": {
             "outlinewidth": 0,
             "ticks": ""
            },
            "type": "choropleth"
           }
          ],
          "contour": [
           {
            "colorbar": {
             "outlinewidth": 0,
             "ticks": ""
            },
            "colorscale": [
             [
              0,
              "#0d0887"
             ],
             [
              0.1111111111111111,
              "#46039f"
             ],
             [
              0.2222222222222222,
              "#7201a8"
             ],
             [
              0.3333333333333333,
              "#9c179e"
             ],
             [
              0.4444444444444444,
              "#bd3786"
             ],
             [
              0.5555555555555556,
              "#d8576b"
             ],
             [
              0.6666666666666666,
              "#ed7953"
             ],
             [
              0.7777777777777778,
              "#fb9f3a"
             ],
             [
              0.8888888888888888,
              "#fdca26"
             ],
             [
              1,
              "#f0f921"
             ]
            ],
            "type": "contour"
           }
          ],
          "contourcarpet": [
           {
            "colorbar": {
             "outlinewidth": 0,
             "ticks": ""
            },
            "type": "contourcarpet"
           }
          ],
          "heatmap": [
           {
            "colorbar": {
             "outlinewidth": 0,
             "ticks": ""
            },
            "colorscale": [
             [
              0,
              "#0d0887"
             ],
             [
              0.1111111111111111,
              "#46039f"
             ],
             [
              0.2222222222222222,
              "#7201a8"
             ],
             [
              0.3333333333333333,
              "#9c179e"
             ],
             [
              0.4444444444444444,
              "#bd3786"
             ],
             [
              0.5555555555555556,
              "#d8576b"
             ],
             [
              0.6666666666666666,
              "#ed7953"
             ],
             [
              0.7777777777777778,
              "#fb9f3a"
             ],
             [
              0.8888888888888888,
              "#fdca26"
             ],
             [
              1,
              "#f0f921"
             ]
            ],
            "type": "heatmap"
           }
          ],
          "heatmapgl": [
           {
            "colorbar": {
             "outlinewidth": 0,
             "ticks": ""
            },
            "colorscale": [
             [
              0,
              "#0d0887"
             ],
             [
              0.1111111111111111,
              "#46039f"
             ],
             [
              0.2222222222222222,
              "#7201a8"
             ],
             [
              0.3333333333333333,
              "#9c179e"
             ],
             [
              0.4444444444444444,
              "#bd3786"
             ],
             [
              0.5555555555555556,
              "#d8576b"
             ],
             [
              0.6666666666666666,
              "#ed7953"
             ],
             [
              0.7777777777777778,
              "#fb9f3a"
             ],
             [
              0.8888888888888888,
              "#fdca26"
             ],
             [
              1,
              "#f0f921"
             ]
            ],
            "type": "heatmapgl"
           }
          ],
          "histogram": [
           {
            "marker": {
             "colorbar": {
              "outlinewidth": 0,
              "ticks": ""
             }
            },
            "type": "histogram"
           }
          ],
          "histogram2d": [
           {
            "colorbar": {
             "outlinewidth": 0,
             "ticks": ""
            },
            "colorscale": [
             [
              0,
              "#0d0887"
             ],
             [
              0.1111111111111111,
              "#46039f"
             ],
             [
              0.2222222222222222,
              "#7201a8"
             ],
             [
              0.3333333333333333,
              "#9c179e"
             ],
             [
              0.4444444444444444,
              "#bd3786"
             ],
             [
              0.5555555555555556,
              "#d8576b"
             ],
             [
              0.6666666666666666,
              "#ed7953"
             ],
             [
              0.7777777777777778,
              "#fb9f3a"
             ],
             [
              0.8888888888888888,
              "#fdca26"
             ],
             [
              1,
              "#f0f921"
             ]
            ],
            "type": "histogram2d"
           }
          ],
          "histogram2dcontour": [
           {
            "colorbar": {
             "outlinewidth": 0,
             "ticks": ""
            },
            "colorscale": [
             [
              0,
              "#0d0887"
             ],
             [
              0.1111111111111111,
              "#46039f"
             ],
             [
              0.2222222222222222,
              "#7201a8"
             ],
             [
              0.3333333333333333,
              "#9c179e"
             ],
             [
              0.4444444444444444,
              "#bd3786"
             ],
             [
              0.5555555555555556,
              "#d8576b"
             ],
             [
              0.6666666666666666,
              "#ed7953"
             ],
             [
              0.7777777777777778,
              "#fb9f3a"
             ],
             [
              0.8888888888888888,
              "#fdca26"
             ],
             [
              1,
              "#f0f921"
             ]
            ],
            "type": "histogram2dcontour"
           }
          ],
          "mesh3d": [
           {
            "colorbar": {
             "outlinewidth": 0,
             "ticks": ""
            },
            "type": "mesh3d"
           }
          ],
          "parcoords": [
           {
            "line": {
             "colorbar": {
              "outlinewidth": 0,
              "ticks": ""
             }
            },
            "type": "parcoords"
           }
          ],
          "pie": [
           {
            "automargin": true,
            "type": "pie"
           }
          ],
          "scatter": [
           {
            "marker": {
             "colorbar": {
              "outlinewidth": 0,
              "ticks": ""
             }
            },
            "type": "scatter"
           }
          ],
          "scatter3d": [
           {
            "line": {
             "colorbar": {
              "outlinewidth": 0,
              "ticks": ""
             }
            },
            "marker": {
             "colorbar": {
              "outlinewidth": 0,
              "ticks": ""
             }
            },
            "type": "scatter3d"
           }
          ],
          "scattercarpet": [
           {
            "marker": {
             "colorbar": {
              "outlinewidth": 0,
              "ticks": ""
             }
            },
            "type": "scattercarpet"
           }
          ],
          "scattergeo": [
           {
            "marker": {
             "colorbar": {
              "outlinewidth": 0,
              "ticks": ""
             }
            },
            "type": "scattergeo"
           }
          ],
          "scattergl": [
           {
            "marker": {
             "colorbar": {
              "outlinewidth": 0,
              "ticks": ""
             }
            },
            "type": "scattergl"
           }
          ],
          "scattermapbox": [
           {
            "marker": {
             "colorbar": {
              "outlinewidth": 0,
              "ticks": ""
             }
            },
            "type": "scattermapbox"
           }
          ],
          "scatterpolar": [
           {
            "marker": {
             "colorbar": {
              "outlinewidth": 0,
              "ticks": ""
             }
            },
            "type": "scatterpolar"
           }
          ],
          "scatterpolargl": [
           {
            "marker": {
             "colorbar": {
              "outlinewidth": 0,
              "ticks": ""
             }
            },
            "type": "scatterpolargl"
           }
          ],
          "scatterternary": [
           {
            "marker": {
             "colorbar": {
              "outlinewidth": 0,
              "ticks": ""
             }
            },
            "type": "scatterternary"
           }
          ],
          "surface": [
           {
            "colorbar": {
             "outlinewidth": 0,
             "ticks": ""
            },
            "colorscale": [
             [
              0,
              "#0d0887"
             ],
             [
              0.1111111111111111,
              "#46039f"
             ],
             [
              0.2222222222222222,
              "#7201a8"
             ],
             [
              0.3333333333333333,
              "#9c179e"
             ],
             [
              0.4444444444444444,
              "#bd3786"
             ],
             [
              0.5555555555555556,
              "#d8576b"
             ],
             [
              0.6666666666666666,
              "#ed7953"
             ],
             [
              0.7777777777777778,
              "#fb9f3a"
             ],
             [
              0.8888888888888888,
              "#fdca26"
             ],
             [
              1,
              "#f0f921"
             ]
            ],
            "type": "surface"
           }
          ],
          "table": [
           {
            "cells": {
             "fill": {
              "color": "#EBF0F8"
             },
             "line": {
              "color": "white"
             }
            },
            "header": {
             "fill": {
              "color": "#C8D4E3"
             },
             "line": {
              "color": "white"
             }
            },
            "type": "table"
           }
          ]
         },
         "layout": {
          "annotationdefaults": {
           "arrowcolor": "#2a3f5f",
           "arrowhead": 0,
           "arrowwidth": 1
          },
          "coloraxis": {
           "colorbar": {
            "outlinewidth": 0,
            "ticks": ""
           }
          },
          "colorscale": {
           "diverging": [
            [
             0,
             "#8e0152"
            ],
            [
             0.1,
             "#c51b7d"
            ],
            [
             0.2,
             "#de77ae"
            ],
            [
             0.3,
             "#f1b6da"
            ],
            [
             0.4,
             "#fde0ef"
            ],
            [
             0.5,
             "#f7f7f7"
            ],
            [
             0.6,
             "#e6f5d0"
            ],
            [
             0.7,
             "#b8e186"
            ],
            [
             0.8,
             "#7fbc41"
            ],
            [
             0.9,
             "#4d9221"
            ],
            [
             1,
             "#276419"
            ]
           ],
           "sequential": [
            [
             0,
             "#0d0887"
            ],
            [
             0.1111111111111111,
             "#46039f"
            ],
            [
             0.2222222222222222,
             "#7201a8"
            ],
            [
             0.3333333333333333,
             "#9c179e"
            ],
            [
             0.4444444444444444,
             "#bd3786"
            ],
            [
             0.5555555555555556,
             "#d8576b"
            ],
            [
             0.6666666666666666,
             "#ed7953"
            ],
            [
             0.7777777777777778,
             "#fb9f3a"
            ],
            [
             0.8888888888888888,
             "#fdca26"
            ],
            [
             1,
             "#f0f921"
            ]
           ],
           "sequentialminus": [
            [
             0,
             "#0d0887"
            ],
            [
             0.1111111111111111,
             "#46039f"
            ],
            [
             0.2222222222222222,
             "#7201a8"
            ],
            [
             0.3333333333333333,
             "#9c179e"
            ],
            [
             0.4444444444444444,
             "#bd3786"
            ],
            [
             0.5555555555555556,
             "#d8576b"
            ],
            [
             0.6666666666666666,
             "#ed7953"
            ],
            [
             0.7777777777777778,
             "#fb9f3a"
            ],
            [
             0.8888888888888888,
             "#fdca26"
            ],
            [
             1,
             "#f0f921"
            ]
           ]
          },
          "colorway": [
           "#636efa",
           "#EF553B",
           "#00cc96",
           "#ab63fa",
           "#FFA15A",
           "#19d3f3",
           "#FF6692",
           "#B6E880",
           "#FF97FF",
           "#FECB52"
          ],
          "font": {
           "color": "#2a3f5f"
          },
          "geo": {
           "bgcolor": "white",
           "lakecolor": "white",
           "landcolor": "#E5ECF6",
           "showlakes": true,
           "showland": true,
           "subunitcolor": "white"
          },
          "hoverlabel": {
           "align": "left"
          },
          "hovermode": "closest",
          "mapbox": {
           "style": "light"
          },
          "paper_bgcolor": "white",
          "plot_bgcolor": "#E5ECF6",
          "polar": {
           "angularaxis": {
            "gridcolor": "white",
            "linecolor": "white",
            "ticks": ""
           },
           "bgcolor": "#E5ECF6",
           "radialaxis": {
            "gridcolor": "white",
            "linecolor": "white",
            "ticks": ""
           }
          },
          "scene": {
           "xaxis": {
            "backgroundcolor": "#E5ECF6",
            "gridcolor": "white",
            "gridwidth": 2,
            "linecolor": "white",
            "showbackground": true,
            "ticks": "",
            "zerolinecolor": "white"
           },
           "yaxis": {
            "backgroundcolor": "#E5ECF6",
            "gridcolor": "white",
            "gridwidth": 2,
            "linecolor": "white",
            "showbackground": true,
            "ticks": "",
            "zerolinecolor": "white"
           },
           "zaxis": {
            "backgroundcolor": "#E5ECF6",
            "gridcolor": "white",
            "gridwidth": 2,
            "linecolor": "white",
            "showbackground": true,
            "ticks": "",
            "zerolinecolor": "white"
           }
          },
          "shapedefaults": {
           "line": {
            "color": "#2a3f5f"
           }
          },
          "ternary": {
           "aaxis": {
            "gridcolor": "white",
            "linecolor": "white",
            "ticks": ""
           },
           "baxis": {
            "gridcolor": "white",
            "linecolor": "white",
            "ticks": ""
           },
           "bgcolor": "#E5ECF6",
           "caxis": {
            "gridcolor": "white",
            "linecolor": "white",
            "ticks": ""
           }
          },
          "title": {
           "x": 0.05
          },
          "xaxis": {
           "automargin": true,
           "gridcolor": "white",
           "linecolor": "white",
           "ticks": "",
           "title": {
            "standoff": 15
           },
           "zerolinecolor": "white",
           "zerolinewidth": 2
          },
          "yaxis": {
           "automargin": true,
           "gridcolor": "white",
           "linecolor": "white",
           "ticks": "",
           "title": {
            "standoff": 15
           },
           "zerolinecolor": "white",
           "zerolinewidth": 2
          }
         }
        },
        "xaxis": {
         "anchor": "y",
         "domain": [
          0,
          1
         ],
         "title": {
          "text": "Keys"
         }
        },
        "yaxis": {
         "anchor": "x",
         "domain": [
          0,
          1
         ],
         "title": {
          "text": "Amount"
         }
        }
       }
      }
     },
     "metadata": {},
     "output_type": "display_data"
    }
   ],
   "source": [
    "import plotly.express as px\n",
    "fig = px.scatter(df, x=\"Keys\", y=\"Amount\")\n",
    "fig.show()"
   ]
  }
 ],
 "metadata": {
  "hide_input": false,
  "kernelspec": {
   "display_name": "Python 3.7.4 64-bit ('base': conda)",
   "language": "python",
   "name": "python37464bitbaseconda9467546895d349fb896481e8ff7bd98e"
  },
  "language_info": {
   "codemirror_mode": {
    "name": "ipython",
    "version": 3
   },
   "file_extension": ".py",
   "mimetype": "text/x-python",
   "name": "python",
   "nbconvert_exporter": "python",
   "pygments_lexer": "ipython3",
   "version": "3.7.7"
  },
  "toc": {
   "base_numbering": 1,
   "nav_menu": {},
   "number_sections": true,
   "sideBar": true,
   "skip_h1_title": false,
   "title_cell": "Table of Contents",
   "title_sidebar": "Contents",
   "toc_cell": false,
   "toc_position": {},
   "toc_section_display": true,
   "toc_window_display": false
  },
  "varInspector": {
   "cols": {
    "lenName": 16,
    "lenType": 16,
    "lenVar": 40
   },
   "kernels_config": {
    "python": {
     "delete_cmd_postfix": "",
     "delete_cmd_prefix": "del ",
     "library": "var_list.py",
     "varRefreshCmd": "print(var_dic_list())"
    },
    "r": {
     "delete_cmd_postfix": ") ",
     "delete_cmd_prefix": "rm(",
     "library": "var_list.r",
     "varRefreshCmd": "cat(var_dic_list()) "
    }
   },
   "types_to_exclude": [
    "module",
    "function",
    "builtin_function_or_method",
    "instance",
    "_Feature"
   ],
   "window_display": false
  }
 },
 "nbformat": 4,
 "nbformat_minor": 4
}
